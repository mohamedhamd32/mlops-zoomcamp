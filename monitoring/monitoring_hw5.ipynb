{
 "cells": [
  {
   "cell_type": "markdown",
   "id": "7bf05e7e",
   "metadata": {},
   "source": [
    "# Baseline model for batch monitoring example"
   ]
  },
  {
   "cell_type": "code",
   "execution_count": 27,
   "id": "7320039b",
   "metadata": {},
   "outputs": [],
   "source": [
    "import requests\n",
    "import datetime\n",
    "import pandas as pd\n",
    "\n",
    "from evidently import ColumnMapping\n",
    "from evidently.report import Report\n",
    "from evidently.metrics import ColumnDriftMetric, DatasetDriftMetric, DatasetMissingValuesMetric\n",
    "\n",
    "from evidently.metrics import ColumnQuantileMetric, ColumnMissingValuesMetric\n",
    "\n",
    "from joblib import load, dump\n",
    "from tqdm import tqdm\n",
    "\n",
    "from sklearn.linear_model import LinearRegression\n",
    "from sklearn.metrics import mean_absolute_error, mean_absolute_percentage_error"
   ]
  },
  {
   "cell_type": "code",
   "execution_count": 28,
   "id": "ebcd8eb5",
   "metadata": {},
   "outputs": [],
   "source": [
    "# files = [('green_tripdata_2022-02.parquet', './data'), ('green_tripdata_2022-01.parquet', './data')]\n",
    "\n",
    "# print(\"Download files:\")\n",
    "# for file, path in files:\n",
    "#     url=f\"https://d37ci6vzurychx.cloudfront.net/trip-data/{file}\"\n",
    "#     resp=requests.get(url, stream=True)\n",
    "#     save_path=f\"{path}/{file}\"\n",
    "#     with open(save_path, \"wb\") as handle:\n",
    "#         for data in tqdm(resp.iter_content(),\n",
    "#                         desc=f\"{file}\",\n",
    "#                         postfix=f\"save to {save_path}\",\n",
    "#                         total=int(resp.headers[\"Content-Length\"])):\n",
    "#             handle.write(data)"
   ]
  },
  {
   "cell_type": "code",
   "execution_count": 29,
   "id": "6735ae38",
   "metadata": {},
   "outputs": [],
   "source": [
    "jan_data = pd.read_parquet('/root/mlops-zoom-camp/monitoring/data/green_tripdata_2024-03.parquet')"
   ]
  },
  {
   "cell_type": "code",
   "execution_count": 30,
   "id": "29779686",
   "metadata": {},
   "outputs": [
    {
     "data": {
      "text/html": [
       "<div>\n",
       "<style scoped>\n",
       "    .dataframe tbody tr th:only-of-type {\n",
       "        vertical-align: middle;\n",
       "    }\n",
       "\n",
       "    .dataframe tbody tr th {\n",
       "        vertical-align: top;\n",
       "    }\n",
       "\n",
       "    .dataframe thead th {\n",
       "        text-align: right;\n",
       "    }\n",
       "</style>\n",
       "<table border=\"1\" class=\"dataframe\">\n",
       "  <thead>\n",
       "    <tr style=\"text-align: right;\">\n",
       "      <th></th>\n",
       "      <th>VendorID</th>\n",
       "      <th>lpep_pickup_datetime</th>\n",
       "      <th>lpep_dropoff_datetime</th>\n",
       "      <th>RatecodeID</th>\n",
       "      <th>PULocationID</th>\n",
       "      <th>DOLocationID</th>\n",
       "      <th>passenger_count</th>\n",
       "      <th>trip_distance</th>\n",
       "      <th>fare_amount</th>\n",
       "      <th>extra</th>\n",
       "      <th>mta_tax</th>\n",
       "      <th>tip_amount</th>\n",
       "      <th>tolls_amount</th>\n",
       "      <th>ehail_fee</th>\n",
       "      <th>improvement_surcharge</th>\n",
       "      <th>total_amount</th>\n",
       "      <th>payment_type</th>\n",
       "      <th>trip_type</th>\n",
       "      <th>congestion_surcharge</th>\n",
       "    </tr>\n",
       "  </thead>\n",
       "  <tbody>\n",
       "    <tr>\n",
       "      <th>count</th>\n",
       "      <td>57457.000000</td>\n",
       "      <td>57457</td>\n",
       "      <td>57457</td>\n",
       "      <td>55360.000000</td>\n",
       "      <td>57457.000000</td>\n",
       "      <td>57457.000000</td>\n",
       "      <td>55360.000000</td>\n",
       "      <td>57457.000000</td>\n",
       "      <td>57457.000000</td>\n",
       "      <td>57457.000000</td>\n",
       "      <td>57457.000000</td>\n",
       "      <td>57457.000000</td>\n",
       "      <td>57457.000000</td>\n",
       "      <td>0.0</td>\n",
       "      <td>57457.000000</td>\n",
       "      <td>57457.000000</td>\n",
       "      <td>55360.000000</td>\n",
       "      <td>55353.000000</td>\n",
       "      <td>55360.000000</td>\n",
       "    </tr>\n",
       "    <tr>\n",
       "      <th>mean</th>\n",
       "      <td>1.877334</td>\n",
       "      <td>2024-03-16 04:02:52.405398528</td>\n",
       "      <td>2024-03-16 04:21:00.076039424</td>\n",
       "      <td>1.179986</td>\n",
       "      <td>95.524688</td>\n",
       "      <td>138.629149</td>\n",
       "      <td>1.309538</td>\n",
       "      <td>13.522828</td>\n",
       "      <td>17.313474</td>\n",
       "      <td>0.904472</td>\n",
       "      <td>0.577410</td>\n",
       "      <td>2.386255</td>\n",
       "      <td>0.192537</td>\n",
       "      <td>NaN</td>\n",
       "      <td>0.979378</td>\n",
       "      <td>22.904832</td>\n",
       "      <td>1.321062</td>\n",
       "      <td>1.038047</td>\n",
       "      <td>0.737730</td>\n",
       "    </tr>\n",
       "    <tr>\n",
       "      <th>min</th>\n",
       "      <td>1.000000</td>\n",
       "      <td>2008-12-31 23:02:24</td>\n",
       "      <td>2008-12-31 23:02:30</td>\n",
       "      <td>1.000000</td>\n",
       "      <td>1.000000</td>\n",
       "      <td>1.000000</td>\n",
       "      <td>0.000000</td>\n",
       "      <td>0.000000</td>\n",
       "      <td>-295.080000</td>\n",
       "      <td>-2.500000</td>\n",
       "      <td>-0.500000</td>\n",
       "      <td>-1.560000</td>\n",
       "      <td>0.000000</td>\n",
       "      <td>NaN</td>\n",
       "      <td>-1.000000</td>\n",
       "      <td>-296.080000</td>\n",
       "      <td>1.000000</td>\n",
       "      <td>1.000000</td>\n",
       "      <td>-2.750000</td>\n",
       "    </tr>\n",
       "    <tr>\n",
       "      <th>25%</th>\n",
       "      <td>2.000000</td>\n",
       "      <td>2024-03-08 13:53:56</td>\n",
       "      <td>2024-03-08 14:13:49</td>\n",
       "      <td>1.000000</td>\n",
       "      <td>74.000000</td>\n",
       "      <td>74.000000</td>\n",
       "      <td>1.000000</td>\n",
       "      <td>1.100000</td>\n",
       "      <td>9.300000</td>\n",
       "      <td>0.000000</td>\n",
       "      <td>0.500000</td>\n",
       "      <td>0.000000</td>\n",
       "      <td>0.000000</td>\n",
       "      <td>NaN</td>\n",
       "      <td>1.000000</td>\n",
       "      <td>13.440000</td>\n",
       "      <td>1.000000</td>\n",
       "      <td>1.000000</td>\n",
       "      <td>0.000000</td>\n",
       "    </tr>\n",
       "    <tr>\n",
       "      <th>50%</th>\n",
       "      <td>2.000000</td>\n",
       "      <td>2024-03-15 22:49:01</td>\n",
       "      <td>2024-03-15 23:09:52</td>\n",
       "      <td>1.000000</td>\n",
       "      <td>75.000000</td>\n",
       "      <td>138.000000</td>\n",
       "      <td>1.000000</td>\n",
       "      <td>1.790000</td>\n",
       "      <td>13.500000</td>\n",
       "      <td>0.000000</td>\n",
       "      <td>0.500000</td>\n",
       "      <td>2.000000</td>\n",
       "      <td>0.000000</td>\n",
       "      <td>NaN</td>\n",
       "      <td>1.000000</td>\n",
       "      <td>18.500000</td>\n",
       "      <td>1.000000</td>\n",
       "      <td>1.000000</td>\n",
       "      <td>0.000000</td>\n",
       "    </tr>\n",
       "    <tr>\n",
       "      <th>75%</th>\n",
       "      <td>2.000000</td>\n",
       "      <td>2024-03-23 20:11:25</td>\n",
       "      <td>2024-03-23 20:34:48</td>\n",
       "      <td>1.000000</td>\n",
       "      <td>97.000000</td>\n",
       "      <td>220.000000</td>\n",
       "      <td>1.000000</td>\n",
       "      <td>3.100000</td>\n",
       "      <td>19.800000</td>\n",
       "      <td>1.000000</td>\n",
       "      <td>0.500000</td>\n",
       "      <td>3.610000</td>\n",
       "      <td>0.000000</td>\n",
       "      <td>NaN</td>\n",
       "      <td>1.000000</td>\n",
       "      <td>27.050000</td>\n",
       "      <td>2.000000</td>\n",
       "      <td>1.000000</td>\n",
       "      <td>2.750000</td>\n",
       "    </tr>\n",
       "    <tr>\n",
       "      <th>max</th>\n",
       "      <td>2.000000</td>\n",
       "      <td>2024-04-01 00:01:45</td>\n",
       "      <td>2024-04-01 16:11:00</td>\n",
       "      <td>99.000000</td>\n",
       "      <td>265.000000</td>\n",
       "      <td>265.000000</td>\n",
       "      <td>9.000000</td>\n",
       "      <td>125112.200000</td>\n",
       "      <td>841.600000</td>\n",
       "      <td>10.000000</td>\n",
       "      <td>4.250000</td>\n",
       "      <td>150.000000</td>\n",
       "      <td>26.760000</td>\n",
       "      <td>NaN</td>\n",
       "      <td>1.000000</td>\n",
       "      <td>856.980000</td>\n",
       "      <td>5.000000</td>\n",
       "      <td>2.000000</td>\n",
       "      <td>2.750000</td>\n",
       "    </tr>\n",
       "    <tr>\n",
       "      <th>std</th>\n",
       "      <td>0.328056</td>\n",
       "      <td>NaN</td>\n",
       "      <td>NaN</td>\n",
       "      <td>1.356719</td>\n",
       "      <td>57.285088</td>\n",
       "      <td>76.295346</td>\n",
       "      <td>0.967749</td>\n",
       "      <td>770.416255</td>\n",
       "      <td>14.958249</td>\n",
       "      <td>1.382446</td>\n",
       "      <td>0.366916</td>\n",
       "      <td>3.159273</td>\n",
       "      <td>1.184551</td>\n",
       "      <td>NaN</td>\n",
       "      <td>0.154253</td>\n",
       "      <td>17.013735</td>\n",
       "      <td>0.497858</td>\n",
       "      <td>0.191311</td>\n",
       "      <td>1.218039</td>\n",
       "    </tr>\n",
       "  </tbody>\n",
       "</table>\n",
       "</div>"
      ],
      "text/plain": [
       "           VendorID           lpep_pickup_datetime  \\\n",
       "count  57457.000000                          57457   \n",
       "mean       1.877334  2024-03-16 04:02:52.405398528   \n",
       "min        1.000000            2008-12-31 23:02:24   \n",
       "25%        2.000000            2024-03-08 13:53:56   \n",
       "50%        2.000000            2024-03-15 22:49:01   \n",
       "75%        2.000000            2024-03-23 20:11:25   \n",
       "max        2.000000            2024-04-01 00:01:45   \n",
       "std        0.328056                            NaN   \n",
       "\n",
       "               lpep_dropoff_datetime    RatecodeID  PULocationID  \\\n",
       "count                          57457  55360.000000  57457.000000   \n",
       "mean   2024-03-16 04:21:00.076039424      1.179986     95.524688   \n",
       "min              2008-12-31 23:02:30      1.000000      1.000000   \n",
       "25%              2024-03-08 14:13:49      1.000000     74.000000   \n",
       "50%              2024-03-15 23:09:52      1.000000     75.000000   \n",
       "75%              2024-03-23 20:34:48      1.000000     97.000000   \n",
       "max              2024-04-01 16:11:00     99.000000    265.000000   \n",
       "std                              NaN      1.356719     57.285088   \n",
       "\n",
       "       DOLocationID  passenger_count  trip_distance   fare_amount  \\\n",
       "count  57457.000000     55360.000000   57457.000000  57457.000000   \n",
       "mean     138.629149         1.309538      13.522828     17.313474   \n",
       "min        1.000000         0.000000       0.000000   -295.080000   \n",
       "25%       74.000000         1.000000       1.100000      9.300000   \n",
       "50%      138.000000         1.000000       1.790000     13.500000   \n",
       "75%      220.000000         1.000000       3.100000     19.800000   \n",
       "max      265.000000         9.000000  125112.200000    841.600000   \n",
       "std       76.295346         0.967749     770.416255     14.958249   \n",
       "\n",
       "              extra       mta_tax    tip_amount  tolls_amount  ehail_fee  \\\n",
       "count  57457.000000  57457.000000  57457.000000  57457.000000        0.0   \n",
       "mean       0.904472      0.577410      2.386255      0.192537        NaN   \n",
       "min       -2.500000     -0.500000     -1.560000      0.000000        NaN   \n",
       "25%        0.000000      0.500000      0.000000      0.000000        NaN   \n",
       "50%        0.000000      0.500000      2.000000      0.000000        NaN   \n",
       "75%        1.000000      0.500000      3.610000      0.000000        NaN   \n",
       "max       10.000000      4.250000    150.000000     26.760000        NaN   \n",
       "std        1.382446      0.366916      3.159273      1.184551        NaN   \n",
       "\n",
       "       improvement_surcharge  total_amount  payment_type     trip_type  \\\n",
       "count           57457.000000  57457.000000  55360.000000  55353.000000   \n",
       "mean                0.979378     22.904832      1.321062      1.038047   \n",
       "min                -1.000000   -296.080000      1.000000      1.000000   \n",
       "25%                 1.000000     13.440000      1.000000      1.000000   \n",
       "50%                 1.000000     18.500000      1.000000      1.000000   \n",
       "75%                 1.000000     27.050000      2.000000      1.000000   \n",
       "max                 1.000000    856.980000      5.000000      2.000000   \n",
       "std                 0.154253     17.013735      0.497858      0.191311   \n",
       "\n",
       "       congestion_surcharge  \n",
       "count          55360.000000  \n",
       "mean               0.737730  \n",
       "min               -2.750000  \n",
       "25%                0.000000  \n",
       "50%                0.000000  \n",
       "75%                2.750000  \n",
       "max                2.750000  \n",
       "std                1.218039  "
      ]
     },
     "execution_count": 30,
     "metadata": {},
     "output_type": "execute_result"
    }
   ],
   "source": [
    "jan_data.describe()"
   ]
  },
  {
   "cell_type": "code",
   "execution_count": 31,
   "id": "b44c37b2",
   "metadata": {},
   "outputs": [
    {
     "data": {
      "text/plain": [
       "(57457, 20)"
      ]
     },
     "execution_count": 31,
     "metadata": {},
     "output_type": "execute_result"
    }
   ],
   "source": [
    "jan_data.shape"
   ]
  },
  {
   "cell_type": "code",
   "execution_count": 32,
   "id": "f2934d16",
   "metadata": {},
   "outputs": [],
   "source": [
    "# create target\n",
    "jan_data[\"duration_min\"] = jan_data.lpep_dropoff_datetime - jan_data.lpep_pickup_datetime\n",
    "jan_data.duration_min = jan_data.duration_min.apply(lambda td : float(td.total_seconds())/60)"
   ]
  },
  {
   "cell_type": "code",
   "execution_count": 33,
   "id": "63210877",
   "metadata": {},
   "outputs": [],
   "source": [
    "# filter out outliers\n",
    "jan_data = jan_data[(jan_data.duration_min >= 0) & (jan_data.duration_min <= 60)]\n",
    "jan_data = jan_data[(jan_data.passenger_count > 0) & (jan_data.passenger_count <= 8)]"
   ]
  },
  {
   "cell_type": "code",
   "execution_count": 34,
   "id": "56b31a22",
   "metadata": {},
   "outputs": [
    {
     "data": {
      "text/plain": [
       "<Axes: >"
      ]
     },
     "execution_count": 34,
     "metadata": {},
     "output_type": "execute_result"
    },
    {
     "data": {
      "image/png": "[encoded data removed]",
      "text/plain": [
       "<Figure size 640x480 with 1 Axes>"
      ]
     },
     "metadata": {},
     "output_type": "display_data"
    }
   ],
   "source": [
    "jan_data.duration_min.hist()"
   ]
  },
  {
   "cell_type": "code",
   "execution_count": 35,
   "id": "e40dff98",
   "metadata": {},
   "outputs": [],
   "source": [
    "# data labeling\n",
    "target = \"duration_min\"\n",
    "num_features = [\"passenger_count\", \"trip_distance\", \"fare_amount\", \"total_amount\"]\n",
    "cat_features = [\"PULocationID\", \"DOLocationID\"]"
   ]
  },
  {
   "cell_type": "code",
   "execution_count": 36,
   "id": "bc0c22a5",
   "metadata": {},
   "outputs": [
    {
     "data": {
      "text/plain": [
       "(54135, 21)"
      ]
     },
     "execution_count": 36,
     "metadata": {},
     "output_type": "execute_result"
    }
   ],
   "source": [
    "jan_data.shape"
   ]
  },
  {
   "cell_type": "code",
   "execution_count": 37,
   "id": "05a265a0",
   "metadata": {},
   "outputs": [],
   "source": [
    "train_data = jan_data[:30000]\n",
    "val_data = jan_data[30000:]"
   ]
  },
  {
   "cell_type": "code",
   "execution_count": 38,
   "id": "d960b55d-8185-4886-997a-ff36977adf6f",
   "metadata": {},
   "outputs": [],
   "source": [
    "current_data = val_data.copy()\n",
    "\n",
    "\n",
    "ref_data = train_data.copy()"
   ]
  },
  {
   "cell_type": "code",
   "execution_count": 39,
   "id": "e9fb4fc9",
   "metadata": {},
   "outputs": [],
   "source": [
    "model = LinearRegression()"
   ]
  },
  {
   "cell_type": "code",
   "execution_count": 40,
   "id": "0baed5ae",
   "metadata": {},
   "outputs": [
    {
     "data": {
      "text/html": [
       "<style>#sk-container-id-2 {color: black;background-color: white;}#sk-container-id-2 pre{padding: 0;}#sk-container-id-2 div.sk-toggleable {background-color: white;}#sk-container-id-2 label.sk-toggleable__label {cursor: pointer;display: block;width: 100%;margin-bottom: 0;padding: 0.3em;box-sizing: border-box;text-align: center;}#sk-container-id-2 label.sk-toggleable__label-arrow:before {content: \"▸\";float: left;margin-right: 0.25em;color: #696969;}#sk-container-id-2 label.sk-toggleable__label-arrow:hover:before {color: black;}#sk-container-id-2 div.sk-estimator:hover label.sk-toggleable__label-arrow:before {color: black;}#sk-container-id-2 div.sk-toggleable__content {max-height: 0;max-width: 0;overflow: hidden;text-align: left;background-color: #f0f8ff;}#sk-container-id-2 div.sk-toggleable__content pre {margin: 0.2em;color: black;border-radius: 0.25em;background-color: #f0f8ff;}#sk-container-id-2 input.sk-toggleable__control:checked~div.sk-toggleable__content {max-height: 200px;max-width: 100%;overflow: auto;}#sk-container-id-2 input.sk-toggleable__control:checked~label.sk-toggleable__label-arrow:before {content: \"▾\";}#sk-container-id-2 div.sk-estimator input.sk-toggleable__control:checked~label.sk-toggleable__label {background-color: #d4ebff;}#sk-container-id-2 div.sk-label input.sk-toggleable__control:checked~label.sk-toggleable__label {background-color: #d4ebff;}#sk-container-id-2 input.sk-hidden--visually {border: 0;clip: rect(1px 1px 1px 1px);clip: rect(1px, 1px, 1px, 1px);height: 1px;margin: -1px;overflow: hidden;padding: 0;position: absolute;width: 1px;}#sk-container-id-2 div.sk-estimator {font-family: monospace;background-color: #f0f8ff;border: 1px dotted black;border-radius: 0.25em;box-sizing: border-box;margin-bottom: 0.5em;}#sk-container-id-2 div.sk-estimator:hover {background-color: #d4ebff;}#sk-container-id-2 div.sk-parallel-item::after {content: \"\";width: 100%;border-bottom: 1px solid gray;flex-grow: 1;}#sk-container-id-2 div.sk-label:hover label.sk-toggleable__label {background-color: #d4ebff;}#sk-container-id-2 div.sk-serial::before {content: \"\";position: absolute;border-left: 1px solid gray;box-sizing: border-box;top: 0;bottom: 0;left: 50%;z-index: 0;}#sk-container-id-2 div.sk-serial {display: flex;flex-direction: column;align-items: center;background-color: white;padding-right: 0.2em;padding-left: 0.2em;position: relative;}#sk-container-id-2 div.sk-item {position: relative;z-index: 1;}#sk-container-id-2 div.sk-parallel {display: flex;align-items: stretch;justify-content: center;background-color: white;position: relative;}#sk-container-id-2 div.sk-item::before, #sk-container-id-2 div.sk-parallel-item::before {content: \"\";position: absolute;border-left: 1px solid gray;box-sizing: border-box;top: 0;bottom: 0;left: 50%;z-index: -1;}#sk-container-id-2 div.sk-parallel-item {display: flex;flex-direction: column;z-index: 1;position: relative;background-color: white;}#sk-container-id-2 div.sk-parallel-item:first-child::after {align-self: flex-end;width: 50%;}#sk-container-id-2 div.sk-parallel-item:last-child::after {align-self: flex-start;width: 50%;}#sk-container-id-2 div.sk-parallel-item:only-child::after {width: 0;}#sk-container-id-2 div.sk-dashed-wrapped {border: 1px dashed gray;margin: 0 0.4em 0.5em 0.4em;box-sizing: border-box;padding-bottom: 0.4em;background-color: white;}#sk-container-id-2 div.sk-label label {font-family: monospace;font-weight: bold;display: inline-block;line-height: 1.2em;}#sk-container-id-2 div.sk-label-container {text-align: center;}#sk-container-id-2 div.sk-container {/* jupyter's `normalize.less` sets `[hidden] { display: none; }` but bootstrap.min.css set `[hidden] { display: none !important; }` so we also need the `!important` here to be able to override the default hidden behavior on the sphinx rendered scikit-learn.org. See: https://github.com/scikit-learn/scikit-learn/issues/21755 */display: inline-block !important;position: relative;}#sk-container-id-2 div.sk-text-repr-fallback {display: none;}</style><div id=\"sk-container-id-2\" class=\"sk-top-container\"><div class=\"sk-text-repr-fallback\"><pre>LinearRegression()</pre><b>In a Jupyter environment, please rerun this cell to show the HTML representation or trust the notebook. <br />On GitHub, the HTML representation is unable to render, please try loading this page with nbviewer.org.</b></div><div class=\"sk-container\" hidden><div class=\"sk-item\"><div class=\"sk-estimator sk-toggleable\"><input class=\"sk-toggleable__control sk-hidden--visually\" id=\"sk-estimator-id-2\" type=\"checkbox\" checked><label for=\"sk-estimator-id-2\" class=\"sk-toggleable__label sk-toggleable__label-arrow\">LinearRegression</label><div class=\"sk-toggleable__content\"><pre>LinearRegression()</pre></div></div></div></div></div>"
      ],
      "text/plain": [
       "LinearRegression()"
      ]
     },
     "execution_count": 40,
     "metadata": {},
     "output_type": "execute_result"
    }
   ],
   "source": [
    "model.fit(train_data[num_features + cat_features], train_data[target])"
   ]
  },
  {
   "cell_type": "code",
   "execution_count": 41,
   "id": "c1fa3c38",
   "metadata": {},
   "outputs": [],
   "source": [
    "train_preds = model.predict(train_data[num_features + cat_features])\n",
    "train_data['prediction'] = train_preds"
   ]
  },
  {
   "cell_type": "code",
   "execution_count": 42,
   "id": "84293b52",
   "metadata": {},
   "outputs": [],
   "source": [
    "val_preds = model.predict(val_data[num_features + cat_features])\n",
    "val_data['prediction'] = val_preds"
   ]
  },
  {
   "cell_type": "code",
   "execution_count": 43,
   "id": "0af9d288",
   "metadata": {},
   "outputs": [
    {
     "name": "stdout",
     "output_type": "stream",
     "text": [
      "3.772473239359444\n",
      "3.716814567929365\n"
     ]
    }
   ],
   "source": [
    "print(mean_absolute_error(train_data.duration_min, train_data.prediction))\n",
    "print(mean_absolute_error(val_data.duration_min, val_data.prediction))"
   ]
  },
  {
   "cell_type": "markdown",
   "id": "fc441899",
   "metadata": {},
   "source": [
    "# Dump model and reference data"
   ]
  },
  {
   "cell_type": "code",
   "execution_count": 44,
   "id": "dfb4068b",
   "metadata": {},
   "outputs": [],
   "source": [
    "import os \n",
    "os.makedirs(\"models\",exist_ok=True)\n",
    "with open('models/lin_reg_2024.bin', 'wb') as f_out:\n",
    "    dump(model, f_out)"
   ]
  },
  {
   "cell_type": "code",
   "execution_count": 45,
   "id": "a1aa065f",
   "metadata": {},
   "outputs": [],
   "source": [
    "\n",
    "val_data.to_parquet('../data/reference_2024.parquet')"
   ]
  },
  {
   "cell_type": "markdown",
   "id": "a195b327",
   "metadata": {},
   "source": [
    "# Evidently Report"
   ]
  },
  {
   "cell_type": "code",
   "execution_count": 46,
   "id": "56403137",
   "metadata": {},
   "outputs": [],
   "source": [
    "column_mapping = ColumnMapping(\n",
    "    target=None,\n",
    "    prediction='prediction',\n",
    "    numerical_features=num_features,\n",
    "    categorical_features=cat_features\n",
    ")"
   ]
  },
  {
   "cell_type": "code",
   "execution_count": 47,
   "id": "36bf31c2",
   "metadata": {},
   "outputs": [],
   "source": [
    "report = Report(metrics=[\n",
    "    ColumnQuantileMetric(column_name=\"fare_amount\", quantile=0.5),\n",
    "    ColumnMissingValuesMetric(column_name=\"fare_amount\")  # ✅ My chosen metric\n",
    "])\n"
   ]
  },
  {
   "cell_type": "code",
   "execution_count": 52,
   "id": "7961dcfb-4df9-475d-92d5-f64e9325e7a4",
   "metadata": {},
   "outputs": [
    {
     "name": "stdout",
     "output_type": "stream",
     "text": [
      "Index(['VendorID', 'lpep_pickup_datetime', 'lpep_dropoff_datetime',\n",
      "       'store_and_fwd_flag', 'RatecodeID', 'PULocationID', 'DOLocationID',\n",
      "       'passenger_count', 'trip_distance', 'fare_amount', 'extra', 'mta_tax',\n",
      "       'tip_amount', 'tolls_amount', 'ehail_fee', 'improvement_surcharge',\n",
      "       'total_amount', 'payment_type', 'trip_type', 'congestion_surcharge',\n",
      "       'duration_min', 'prediction'],\n",
      "      dtype='object')\n",
      "Date: 2024-03-11, Records: 1, Manual median: 10.00\n",
      "Date: 2024-03-12, Records: 3, Manual median: 10.70\n",
      "Date: 2024-03-13, Records: 1, Manual median: 20.00\n",
      "Date: 2024-03-14, Records: 1, Manual median: 14.20\n",
      "Date: 2024-03-17, Records: 24, Manual median: 11.70\n",
      "Date: 2024-03-18, Records: 1775, Manual median: 12.80\n",
      "Date: 2024-03-19, Records: 1859, Manual median: 13.50\n",
      "Date: 2024-03-20, Records: 1938, Manual median: 12.80\n",
      "Date: 2024-03-21, Records: 2010, Manual median: 13.50\n",
      "Date: 2024-03-22, Records: 1830, Manual median: 12.80\n",
      "Date: 2024-03-23, Records: 1289, Manual median: 12.80\n",
      "Date: 2024-03-24, Records: 1296, Manual median: 14.02\n",
      "Date: 2024-03-25, Records: 1702, Manual median: 13.50\n",
      "Date: 2024-03-26, Records: 1833, Manual median: 13.50\n",
      "Date: 2024-03-27, Records: 1938, Manual median: 12.80\n",
      "Date: 2024-03-28, Records: 2018, Manual median: 13.25\n",
      "Date: 2024-03-29, Records: 1734, Manual median: 12.80\n",
      "Date: 2024-03-30, Records: 1483, Manual median: 14.00\n",
      "Date: 2024-03-31, Records: 1399, Manual median: 13.50\n",
      "✅ Max daily median fare_amount was 20.0 on 2024-03-13\n"
     ]
    }
   ],
   "source": [
    "import pandas as pd\n",
    "from datetime import datetime, timedelta\n",
    "from evidently.report import Report\n",
    "from evidently.metrics import ColumnQuantileMetric\n",
    "\n",
    "# === Input: Load your data ===\n",
    "# You already have:\n",
    "# - current_data as val_data (March 2024 batch)\n",
    "# - ref_data as train_data (reference data)\n",
    "current_data = val_data.copy()\n",
    "\n",
    "print(current_data.columns)\n",
    "\n",
    "ref_data = train_data.copy()\n",
    "\n",
    "# === Convert pickup datetime to datetime format ===\n",
    "current_data['lpep_pickup_datetime'] = pd.to_datetime(current_data['lpep_pickup_datetime'])\n",
    "\n",
    "# === Generate all days in March 2024 ===\n",
    "start_date = datetime(2024, 3, 1)\n",
    "end_date = datetime(2024, 3, 31)\n",
    "march_2024_dates = [start_date + timedelta(days=i) for i in range((end_date - start_date).days + 1)]\n",
    "\n",
    "# === Prepare list to store daily medians ===\n",
    "daily_medians = []\n",
    "\n",
    "# === Loop through each day in March ===\n",
    "for date in march_2024_dates:\n",
    "    # Filter current_data for just this day\n",
    "    day_data = current_data[\n",
    "        (current_data['lpep_pickup_datetime'] >= date) &\n",
    "        (current_data['lpep_pickup_datetime'] < date + timedelta(days=1))\n",
    "    ]\n",
    "\n",
    "    # Skip empty days\n",
    "    if day_data.empty:\n",
    "        continue\n",
    "\n",
    "    print(f\"Date: {date.date()}, Records: {len(day_data)}, Manual median: {day_data['fare_amount'].median():.2f}\")\n",
    "\n",
    "    # Run Evidently report for quantile=0.5 (median)\n",
    "    report = Report(metrics=[\n",
    "        ColumnQuantileMetric(column_name=\"fare_amount\", quantile=0.5)\n",
    "    ])\n",
    "\n",
    "    report.run(reference_data=ref_data, current_data=day_data)\n",
    "    result = report.as_dict()\n",
    "\n",
    "    # Extract the median from the result\n",
    "    median = result[\"metrics\"][0][\"result\"][\"current\"][\"value\"]\n",
    "    daily_medians.append((date.date(), median))\n",
    "\n",
    "    \n",
    "\n",
    "# # === Round and find max median ===\n",
    "# if daily_medians:\n",
    "#     rounded_daily_medians = [(d, round(m, 1)) for d, m in daily_medians]\n",
    "#     max_day, max_median = max(rounded_daily_medians, key=lambda x: x[1])\n",
    "#     print(f\"✅ Max daily median fare_amount was {max_median} on {max_day}\")\n",
    "# else:\n",
    "#     print(\"❌ No data available for March 2024.\")\n",
    "    \n",
    "\n",
    "# === Find the day with the max median ===\n",
    "if daily_medians:\n",
    "    max_day, max_median = max(daily_medians, key=lambda x: x[1])\n",
    "    print(f\"✅ Max daily median fare_amount was {max_median} on {max_day}\")\n",
    "else:\n",
    "    print(\"❌ No data available for March 2024.\")\n"
   ]
  },
  {
   "cell_type": "code",
   "execution_count": null,
   "id": "996eb8b8",
   "metadata": {},
   "outputs": [],
   "source": [
    "report.run(reference_data=train_data, current_data=val_data, column_mapping=column_mapping)"
   ]
  },
  {
   "cell_type": "code",
   "execution_count": null,
   "id": "3e7aaea2",
   "metadata": {},
   "outputs": [],
   "source": [
    "report.show(mode='inline')"
   ]
  },
  {
   "cell_type": "code",
   "execution_count": null,
   "id": "397adec5",
   "metadata": {},
   "outputs": [],
   "source": [
    "\n",
    "## convert to dict or json formate to work with key and values in addition to filter for which key and value we need for logging\n",
    "result = report.as_dict()"
   ]
  },
  {
   "cell_type": "code",
   "execution_count": null,
   "id": "84c99580",
   "metadata": {
    "scrolled": true
   },
   "outputs": [],
   "source": [
    "result"
   ]
  },
  {
   "cell_type": "code",
   "execution_count": null,
   "id": "d0e4155a-6a1d-4e01-b29f-676e768115ef",
   "metadata": {},
   "outputs": [],
   "source": [
    "results = []\n",
    "val_data\n",
    "for date in jan_data:  # one date per dayval_data\n",
    "    day_data = val_data[val_data['pickup_date'] == date]\n",
    "    report = Report(metrics=[\n",
    "        ColumnQuantileMetric(column_name=\"fare_amount\", quantile=0.5)\n",
    "    ])\n",
    "    report.run(reference_data=ref_data, val_data=day_data)\n",
    "    metric_result = report.as_dict()\n",
    "    \n",
    "    # Extract the daily median\n",
    "    median_fare = metric_result['metrics'][0]['result']['value']\n",
    "    results.append((date, median_fare))\n",
    "\n",
    "max_median = max([value for date, value in results])\n",
    "print(max_median)\n"
   ]
  },
  {
   "cell_type": "code",
   "execution_count": null,
   "id": "7fa07745",
   "metadata": {},
   "outputs": [],
   "source": [
    "#prediction drift\n",
    "result['metrics'][0]['result']['drift_score']"
   ]
  },
  {
   "cell_type": "code",
   "execution_count": null,
   "id": "e1c8f836",
   "metadata": {},
   "outputs": [],
   "source": [
    "#number of drifted columns\n",
    "result['metrics'][1]['result']['number_of_drifted_columns']"
   ]
  },
  {
   "cell_type": "code",
   "execution_count": null,
   "id": "71c07269",
   "metadata": {},
   "outputs": [],
   "source": [
    "#share of missing values\n",
    "result['metrics'][2]['result']['current']['share_of_missing_values']"
   ]
  },
  {
   "cell_type": "markdown",
   "id": "b1806fc6-1810-4f2f-9a44-b692395e8d2a",
   "metadata": {},
   "source": [
    "# Evidently Dashboard"
   ]
  },
  {
   "cell_type": "code",
   "execution_count": null,
   "id": "a9329510-f377-437b-ba12-e8dc26b3d7b0",
   "metadata": {},
   "outputs": [],
   "source": [
    "from evidently.metric_preset import DataDriftPreset, DataQualityPreset\n",
    "\n",
    "from evidently.ui.workspace import Workspace\n",
    "from evidently.ui.dashboards import DashboardPanelCounter, DashboardPanelPlot, CounterAgg, PanelValue, PlotType, ReportFilter\n",
    "from evidently.renderers.html_widgets import WidgetSize"
   ]
  },
  {
   "cell_type": "code",
   "execution_count": null,
   "id": "a5465175-02bf-44d5-82ff-ef4baa1ac4e2",
   "metadata": {},
   "outputs": [],
   "source": [
    "ws = Workspace(\"/root/mlops-zoom-camp/monitoring/my_workspace\")"
   ]
  },
  {
   "cell_type": "code",
   "execution_count": null,
   "id": "06718d7e-c81f-4b36-a6fa-5b446c6c5f92",
   "metadata": {},
   "outputs": [],
   "source": [
    "project = ws.create_project(\"NYC Taxi Data Quality Project\")\n",
    "project.description = \"My project descriotion\"\n",
    "project.save()"
   ]
  },
  {
   "cell_type": "code",
   "execution_count": null,
   "id": "cc58e3ea-560c-4b85-a6ef-3cdf76d33123",
   "metadata": {},
   "outputs": [],
   "source": [
    "regular_report = Report(\n",
    "    metrics=[\n",
    "        DataQualityPreset()\n",
    "    ],\n",
    "    timestamp=datetime.datetime(2023,4,28)\n",
    ")\n",
    "\n",
    "regular_report.run(reference_data=None,\n",
    "                  current_data=val_data.loc[val_data.tpep_pickup_datetime.between('2023-04-28', '2023-04-29', inclusive=\"left\")],\n",
    "                  column_mapping=column_mapping)\n",
    "\n",
    "regular_report"
   ]
  },
  {
   "cell_type": "code",
   "execution_count": null,
   "id": "c55cf5d6-7bbb-438f-9d56-bdc8318e70e2",
   "metadata": {},
   "outputs": [],
   "source": [
    "ws.add_report(project.id, regular_report)"
   ]
  },
  {
   "cell_type": "code",
   "execution_count": null,
   "id": "7938268f-f511-47f5-acfc-2c53522bcfa6",
   "metadata": {},
   "outputs": [],
   "source": [
    "#configure the dashboard\n",
    "project.dashboard.add_panel(\n",
    "    DashboardPanelCounter(\n",
    "        filter=ReportFilter(metadata_values={}, tag_values=[]),\n",
    "        agg=CounterAgg.NONE,\n",
    "        title=\"NYC taxi data dashboard\"\n",
    "    )\n",
    ")\n",
    "\n",
    "project.dashboard.add_panel(\n",
    "    DashboardPanelPlot(\n",
    "        filter=ReportFilter(metadata_values={}, tag_values=[]),\n",
    "        title=\"Inference Count\",\n",
    "        values=[\n",
    "            PanelValue(\n",
    "                metric_id=\"DatasetSummaryMetric\",\n",
    "                field_path=\"current.number_of_rows\",\n",
    "                legend=\"count\"\n",
    "            ),\n",
    "        ],\n",
    "        plot_type=PlotType.BAR,\n",
    "        size=WidgetSize.HALF,\n",
    "    ),\n",
    ")\n",
    "\n",
    "project.dashboard.add_panel(\n",
    "    DashboardPanelPlot(\n",
    "        filter=ReportFilter(metadata_values={}, tag_values=[]),\n",
    "        title=\"Number of Missing Values\",\n",
    "        values=[\n",
    "            PanelValue(\n",
    "                metric_id=\"DatasetSummaryMetric\",\n",
    "                field_path=\"current.number_of_missing_values\",\n",
    "                legend=\"count\"\n",
    "            ),\n",
    "        ],\n",
    "        plot_type=PlotType.LINE,\n",
    "        size=WidgetSize.HALF,\n",
    "    ),\n",
    ")\n",
    "\n",
    "project.dashboard.add_panel(\n",
    "    DashboardPanelPlot(\n",
    "        filter=ReportFilter(metadata_values={}, tag_values=[]),\n",
    "        title=\"Number of Missing Values2\",\n",
    "        values=[\n",
    "            PanelValue(\n",
    "                metric_id=\"DatasetSummaryMetric\",\n",
    "                field_path=\"current.number_of_missing_values\",\n",
    "                legend=\"count\"\n",
    "            ),\n",
    "        ],\n",
    "        plot_type=PlotType.LINE,\n",
    "        size=WidgetSize.HALF,\n",
    "    ),\n",
    ")\n",
    "\n",
    "project.save()"
   ]
  },
  {
   "cell_type": "code",
   "execution_count": null,
   "id": "f2193364-124a-4585-8859-86a82c858334",
   "metadata": {
    "scrolled": true
   },
   "outputs": [],
   "source": [
    "regular_report = Report(\n",
    "    metrics=[\n",
    "        DataQualityPreset()\n",
    "    ],\n",
    "    timestamp=datetime.datetime(2023,4,29)\n",
    ")\n",
    "\n",
    "regular_report.run(reference_data=None,\n",
    "                  current_data=val_data.loc[val_data.tpep_pickup_datetime.between('2023-04-29', '2023-04-30', inclusive=\"left\")],\n",
    "                  column_mapping=column_mapping)\n",
    "\n",
    "regular_report"
   ]
  },
  {
   "cell_type": "code",
   "execution_count": null,
   "id": "6999cf63-9c59-4420-8163-b8c1215f3ba7",
   "metadata": {},
   "outputs": [],
   "source": [
    "ws.add_report(project.id, regular_report)"
   ]
  },
  {
   "cell_type": "code",
   "execution_count": null,
   "id": "c7f04a09-6c54-4784-bd0a-c8b01f3d8ae8",
   "metadata": {},
   "outputs": [],
   "source": []
  }
 ],
 "metadata": {
  "kernelspec": {
   "display_name": "Python 3 (ipykernel)",
   "language": "python",
   "name": "python3"
  },
  "language_info": {
   "codemirror_mode": {
    "name": "ipython",
    "version": 3
   },
   "file_extension": ".py",
   "mimetype": "text/x-python",
   "name": "python",
   "nbconvert_exporter": "python",
   "pygments_lexer": "ipython3",
   "version": "3.10.11"
  }
 },
 "nbformat": 4,
 "nbformat_minor": 5
}
